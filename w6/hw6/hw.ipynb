{
 "cells": [
  {
   "cell_type": "code",
   "execution_count": 1,
   "id": "fb818320-f459-4594-9192-9399c1f368bb",
   "metadata": {},
   "outputs": [
    {
     "name": "stderr",
     "output_type": "stream",
     "text": [
      "/opt/homebrew/anaconda3/lib/python3.9/site-packages/pandas/core/computation/expressions.py:21: UserWarning: Pandas requires version '2.8.4' or newer of 'numexpr' (version '2.8.3' currently installed).\n",
      "  from pandas.core.computation.check import NUMEXPR_INSTALLED\n",
      "/opt/homebrew/anaconda3/lib/python3.9/site-packages/pandas/core/arrays/masked.py:60: UserWarning: Pandas requires version '1.3.6' or newer of 'bottleneck' (version '1.3.5' currently installed).\n",
      "  from pandas.core import (\n"
     ]
    }
   ],
   "source": [
    "import pandas as pd\n",
    "from pprint import pprint"
   ]
  },
  {
   "cell_type": "markdown",
   "id": "318c7305",
   "metadata": {},
   "source": [
    "# Setup"
   ]
  },
  {
   "cell_type": "code",
   "execution_count": 2,
   "id": "af867cc0",
   "metadata": {},
   "outputs": [],
   "source": [
    "# docker compose up -d"
   ]
  },
  {
   "cell_type": "code",
   "execution_count": 3,
   "id": "81a17fbb-5e45-47ee-bb40-20b2c59275c8",
   "metadata": {},
   "outputs": [],
   "source": [
    "! alias rpk=\"docker exec -ti redpanda-1 rpk\""
   ]
  },
  {
   "cell_type": "code",
   "execution_count": 4,
   "id": "0207897a-ec64-4c31-9c1f-0454d068fdbc",
   "metadata": {},
   "outputs": [
    {
     "name": "stdout",
     "output_type": "stream",
     "text": [
      "rpk is the Redpanda CLI & toolbox\r\n",
      "\r\n",
      "Usage:\r\n",
      "  rpk [command]\r\n",
      "\r\n",
      "Available Commands:\r\n",
      "  acl         Manage ACLs and SASL users\r\n",
      "  cloud       Interact with Redpanda cloud\r\n",
      "  cluster     Interact with a Redpanda cluster\r\n",
      "  container   Manage a local container cluster\r\n",
      "  debug       Debug the local Redpanda process\r\n",
      "  generate    Generate a configuration template for related services\r\n",
      "  group       Describe, list, and delete consumer groups and manage their offsets\r\n",
      "  help        Help about any command\r\n",
      "  iotune      Measure filesystem performance and create IO configuration file\r\n",
      "  plugin      List, download, update, and remove rpk plugins\r\n",
      "  redpanda    Interact with a local Redpanda process\r\n",
      "  topic       Create, delete, produce to and consume from Redpanda topics\r\n",
      "  version     Check the current version\r\n",
      "  wasm        Deploy and remove inline WASM engine scripts\r\n",
      "\r\n",
      "Flags:\r\n",
      "  -h, --help      Help for rpk\r\n",
      "  -v, --verbose   Enable verbose logging (default: false)\r\n",
      "\r\n",
      "Use \"rpk [command] --help\" for more information about a command.\r\n"
     ]
    }
   ],
   "source": [
    "! docker exec -ti redpanda-1 rpk help"
   ]
  },
  {
   "cell_type": "markdown",
   "id": "f04f3ca3",
   "metadata": {},
   "source": [
    "# Question 1: Redpanda version\n",
    "Answer: v22.3.5 (rev 28b2443)"
   ]
  },
  {
   "cell_type": "code",
   "execution_count": 6,
   "id": "ebda7dc8-13a5-427d-ade3-64a6c530612a",
   "metadata": {},
   "outputs": [
    {
     "name": "stdout",
     "output_type": "stream",
     "text": [
      "v22.3.5 (rev 28b2443)\r\n"
     ]
    }
   ],
   "source": [
    "! docker exec -ti redpanda-1 rpk version"
   ]
  },
  {
   "cell_type": "markdown",
   "id": "22da81be",
   "metadata": {},
   "source": [
    "# Question 2. Creating a topic\n",
    "Answer: \n",
    "```sh\n",
    "TOPIC       STATUS\n",
    "test-topic  OK\n",
    "\n",
    "```"
   ]
  },
  {
   "cell_type": "code",
   "execution_count": 10,
   "id": "b20984be-2042-407a-a5ab-fc0e8f869ca4",
   "metadata": {},
   "outputs": [
    {
     "name": "stdout",
     "output_type": "stream",
     "text": [
      "TOPIC       STATUS\r\n",
      "test-topic  OK\r\n"
     ]
    }
   ],
   "source": [
    "! docker exec -ti redpanda-1 rpk topic delete test-topic"
   ]
  },
  {
   "cell_type": "code",
   "execution_count": 11,
   "id": "8cfc005e-01af-482e-bbc3-41a666e956f8",
   "metadata": {},
   "outputs": [
    {
     "name": "stdout",
     "output_type": "stream",
     "text": [
      "TOPIC       STATUS\r\n",
      "test-topic  OK\r\n"
     ]
    }
   ],
   "source": [
    "! docker exec -ti redpanda-1 rpk topic create test-topic"
   ]
  },
  {
   "cell_type": "markdown",
   "id": "2babad7c",
   "metadata": {},
   "source": [
    "# Question 3. Connecting to the Kafka server\n",
    "Answer: True"
   ]
  },
  {
   "cell_type": "code",
   "execution_count": 12,
   "id": "378eb4cc-3782-47d4-83f7-53aff809926e",
   "metadata": {},
   "outputs": [
    {
     "data": {
      "text/plain": [
       "True"
      ]
     },
     "execution_count": 12,
     "metadata": {},
     "output_type": "execute_result"
    }
   ],
   "source": [
    "import json\n",
    "import time \n",
    "\n",
    "from kafka import KafkaProducer\n",
    "\n",
    "def json_serializer(data):\n",
    "    return json.dumps(data).encode('utf-8')\n",
    "\n",
    "server = 'localhost:9092'\n",
    "\n",
    "producer = KafkaProducer(\n",
    "    bootstrap_servers=[server],\n",
    "    value_serializer=json_serializer\n",
    ")\n",
    "\n",
    "producer.bootstrap_connected()"
   ]
  },
  {
   "cell_type": "markdown",
   "id": "a61172cb",
   "metadata": {},
   "source": [
    "# Question 4. Sending data to the stream\n",
    "Answer: Sending the messages"
   ]
  },
  {
   "cell_type": "code",
   "execution_count": 13,
   "id": "cfef860b-dcf8-455c-8238-888590a1de4a",
   "metadata": {},
   "outputs": [
    {
     "name": "stdout",
     "output_type": "stream",
     "text": [
      "Sent: {'number': 0}\n",
      "Sent: {'number': 1}\n",
      "Sent: {'number': 2}\n",
      "Sent: {'number': 3}\n",
      "Sent: {'number': 4}\n",
      "Sent: {'number': 5}\n",
      "Sent: {'number': 6}\n",
      "Sent: {'number': 7}\n",
      "Sent: {'number': 8}\n",
      "Sent: {'number': 9}\n",
      "took 0.54 seconds\n"
     ]
    }
   ],
   "source": [
    "t0 = time.time()\n",
    "\n",
    "topic_name = 'test-topic'\n",
    "\n",
    "for i in range(10):\n",
    "    message = {'number': i}\n",
    "    producer.send(topic_name, value=message)\n",
    "    print(f\"Sent: {message}\")\n",
    "    time.sleep(0.05)\n",
    "\n",
    "producer.flush()\n",
    "\n",
    "t1 = time.time()\n",
    "print(f'took {(t1 - t0):.2f} seconds')"
   ]
  },
  {
   "cell_type": "markdown",
   "id": "93ee1a4d",
   "metadata": {},
   "source": [
    "# Reading data with rpk\n"
   ]
  },
  {
   "cell_type": "code",
   "execution_count": 9,
   "id": "9389ea19-14d6-4712-a83d-a64a0b2eda7f",
   "metadata": {},
   "outputs": [
    {
     "name": "stdout",
     "output_type": "stream",
     "text": [
      "{\n",
      "  \"topic\": \"test-topic\",\n",
      "  \"value\": \"{\\\"number\\\": 0}\",\n",
      "  \"timestamp\": 1710978742906,\n",
      "  \"partition\": 0,\n",
      "  \"offset\": 0\n",
      "}\n",
      "{\n",
      "  \"topic\": \"test-topic\",\n",
      "  \"value\": \"{\\\"number\\\": 1}\",\n",
      "  \"timestamp\": 1710978742960,\n",
      "  \"partition\": 0,\n",
      "  \"offset\": 1\n",
      "}\n",
      "{\n",
      "  \"topic\": \"test-topic\",\n",
      "  \"value\": \"{\\\"number\\\": 2}\",\n",
      "  \"timestamp\": 1710978743016,\n",
      "  \"partition\": 0,\n",
      "  \"offset\": 2\n",
      "}\n",
      "{\n",
      "  \"topic\": \"test-topic\",\n",
      "  \"value\": \"{\\\"number\\\": 3}\",\n",
      "  \"timestamp\": 1710978743070,\n",
      "  \"partition\": 0,\n",
      "  \"offset\": 3\n",
      "}\n",
      "{\n",
      "  \"topic\": \"test-topic\",\n",
      "  \"value\": \"{\\\"number\\\": 4}\",\n",
      "  \"timestamp\": 1710978743124,\n",
      "  \"partition\": 0,\n",
      "  \"offset\": 4\n",
      "}\n",
      "{\n",
      "  \"topic\": \"test-topic\",\n",
      "  \"value\": \"{\\\"number\\\": 5}\",\n",
      "  \"timestamp\": 1710978743179,\n",
      "  \"partition\": 0,\n",
      "  \"offset\": 5\n",
      "}\n",
      "{\n",
      "  \"topic\": \"test-topic\",\n",
      "  \"value\": \"{\\\"number\\\": 6}\",\n",
      "  \"timestamp\": 1710978743234,\n",
      "  \"partition\": 0,\n",
      "  \"offset\": 6\n",
      "}\n",
      "{\n",
      "  \"topic\": \"test-topic\",\n",
      "  \"value\": \"{\\\"number\\\": 7}\",\n",
      "  \"timestamp\": 1710978743287,\n",
      "  \"partition\": 0,\n",
      "  \"offset\": 7\n",
      "}\n",
      "{\n",
      "  \"topic\": \"test-topic\",\n",
      "  \"value\": \"{\\\"number\\\": 8}\",\n",
      "  \"timestamp\": 1710978743340,\n",
      "  \"partition\": 0,\n",
      "  \"offset\": 8\n",
      "}\n",
      "{\n",
      "  \"topic\": \"test-topic\",\n",
      "  \"value\": \"{\\\"number\\\": 9}\",\n",
      "  \"timestamp\": 1710978743396,\n",
      "  \"partition\": 0,\n",
      "  \"offset\": 9\n",
      "}\n",
      "^C\n"
     ]
    }
   ],
   "source": [
    "! docker exec -ti redpanda-1 rpk topic consume test-topic"
   ]
  },
  {
   "cell_type": "markdown",
   "id": "ae7a45e9",
   "metadata": {},
   "source": [
    "# Sending the taxi data\n"
   ]
  },
  {
   "cell_type": "code",
   "execution_count": 14,
   "id": "04f13e10-d536-440b-898e-85e46f20935e",
   "metadata": {},
   "outputs": [],
   "source": [
    "columns = [\n",
    "    'lpep_pickup_datetime','lpep_dropoff_datetime','PULocationID',\n",
    "    'DOLocationID','passenger_count','trip_distance','tip_amount'\n",
    "]\n",
    "df_green = pd.read_csv('green_tripdata_2019-10.csv.gz', compression='gzip', usecols=columns)"
   ]
  },
  {
   "cell_type": "code",
   "execution_count": 15,
   "id": "d26c136b-8d75-4569-b09b-16791de669d0",
   "metadata": {},
   "outputs": [
    {
     "name": "stdout",
     "output_type": "stream",
     "text": [
      "{'DOLocationID': 196,\n",
      " 'PULocationID': 112,\n",
      " 'lpep_dropoff_datetime': '2019-10-01 00:39:58',\n",
      " 'lpep_pickup_datetime': '2019-10-01 00:26:02',\n",
      " 'passenger_count': 1.0,\n",
      " 'tip_amount': 0.0,\n",
      " 'trip_distance': 5.88}\n"
     ]
    }
   ],
   "source": [
    "for row in df_green.itertuples(index=False):\n",
    "    row_dict = {col: getattr(row, col) for col in row._fields}\n",
    "    pprint(row_dict)\n",
    "    break"
   ]
  },
  {
   "cell_type": "code",
   "execution_count": 16,
   "id": "86024cec",
   "metadata": {},
   "outputs": [
    {
     "name": "stdout",
     "output_type": "stream",
     "text": [
      "TOPIC        STATUS\r\n",
      "green-trips  OK\r\n"
     ]
    }
   ],
   "source": [
    "! docker exec -ti redpanda-1 rpk topic delete green-trips"
   ]
  },
  {
   "cell_type": "code",
   "execution_count": 17,
   "id": "c46cd4c8-44b2-46c3-b723-0b01bfc8c447",
   "metadata": {},
   "outputs": [
    {
     "name": "stdout",
     "output_type": "stream",
     "text": [
      "TOPIC        STATUS\r\n",
      "green-trips  OK\r\n"
     ]
    }
   ],
   "source": [
    "! docker exec -ti redpanda-1 rpk topic create green-trips"
   ]
  },
  {
   "cell_type": "markdown",
   "id": "b4951150",
   "metadata": {},
   "source": [
    "# Question 5: Sending the Trip Data\n",
    "Answer: 24.85 seconds"
   ]
  },
  {
   "cell_type": "code",
   "execution_count": 18,
   "id": "af5ca53a-94ef-4ab8-a708-c04f66b26dc6",
   "metadata": {},
   "outputs": [
    {
     "name": "stdout",
     "output_type": "stream",
     "text": [
      "(476386, 7)\n",
      "took 24.32 seconds\n"
     ]
    }
   ],
   "source": [
    "t0 = time.time()\n",
    "\n",
    "topic_name = 'green-trips'\n",
    "\n",
    "print(df_green.shape)\n",
    "\n",
    "for row in df_green.itertuples(index=False):\n",
    "    message = {col: getattr(row, col) for col in row._fields}\n",
    "    producer.send(topic_name, value=message)\n",
    "\n",
    "    t1 = time.time()\n",
    "print(f'took {(t1 - t0):.2f} seconds')"
   ]
  },
  {
   "cell_type": "code",
   "execution_count": 15,
   "id": "5510a745-f8d8-489b-a994-4bb8bbd8cc81",
   "metadata": {},
   "outputs": [],
   "source": [
    "# ! docker exec -ti redpanda-1 rpk topic consume green-trips"
   ]
  },
  {
   "cell_type": "markdown",
   "id": "69c361e8-4171-4333-9bbc-973c3301a4b5",
   "metadata": {},
   "source": [
    "# Creating the PySpark consumer"
   ]
  },
  {
   "cell_type": "code",
   "execution_count": 19,
   "id": "02624c80-2336-4f6d-a9fb-28c78d8c0e26",
   "metadata": {},
   "outputs": [
    {
     "name": "stdout",
     "output_type": "stream",
     "text": [
      ":: loading settings :: url = jar:file:/opt/homebrew/anaconda3/lib/python3.9/site-packages/pyspark/jars/ivy-2.5.1.jar!/org/apache/ivy/core/settings/ivysettings.xml\n"
     ]
    },
    {
     "name": "stderr",
     "output_type": "stream",
     "text": [
      "Ivy Default Cache set to: /Users/heanh/.ivy2/cache\n",
      "The jars for the packages stored in: /Users/heanh/.ivy2/jars\n",
      "org.apache.spark#spark-sql-kafka-0-10_2.12 added as a dependency\n",
      ":: resolving dependencies :: org.apache.spark#spark-submit-parent-34924bb5-c88f-4b13-aeca-c4ad63f10310;1.0\n",
      "\tconfs: [default]\n",
      "\tfound org.apache.spark#spark-sql-kafka-0-10_2.12;3.5.1 in central\n",
      "\tfound org.apache.spark#spark-token-provider-kafka-0-10_2.12;3.5.1 in central\n",
      "\tfound org.apache.kafka#kafka-clients;3.4.1 in central\n",
      "\tfound org.lz4#lz4-java;1.8.0 in central\n",
      "\tfound org.xerial.snappy#snappy-java;1.1.10.3 in central\n",
      "\tfound org.slf4j#slf4j-api;2.0.7 in central\n",
      "\tfound org.apache.hadoop#hadoop-client-runtime;3.3.4 in central\n",
      "\tfound org.apache.hadoop#hadoop-client-api;3.3.4 in central\n",
      "\tfound commons-logging#commons-logging;1.1.3 in central\n",
      "\tfound com.google.code.findbugs#jsr305;3.0.0 in central\n",
      "\tfound org.apache.commons#commons-pool2;2.11.1 in central\n",
      ":: resolution report :: resolve 280ms :: artifacts dl 7ms\n",
      "\t:: modules in use:\n",
      "\tcom.google.code.findbugs#jsr305;3.0.0 from central in [default]\n",
      "\tcommons-logging#commons-logging;1.1.3 from central in [default]\n",
      "\torg.apache.commons#commons-pool2;2.11.1 from central in [default]\n",
      "\torg.apache.hadoop#hadoop-client-api;3.3.4 from central in [default]\n",
      "\torg.apache.hadoop#hadoop-client-runtime;3.3.4 from central in [default]\n",
      "\torg.apache.kafka#kafka-clients;3.4.1 from central in [default]\n",
      "\torg.apache.spark#spark-sql-kafka-0-10_2.12;3.5.1 from central in [default]\n",
      "\torg.apache.spark#spark-token-provider-kafka-0-10_2.12;3.5.1 from central in [default]\n",
      "\torg.lz4#lz4-java;1.8.0 from central in [default]\n",
      "\torg.slf4j#slf4j-api;2.0.7 from central in [default]\n",
      "\torg.xerial.snappy#snappy-java;1.1.10.3 from central in [default]\n",
      "\t---------------------------------------------------------------------\n",
      "\t|                  |            modules            ||   artifacts   |\n",
      "\t|       conf       | number| search|dwnlded|evicted|| number|dwnlded|\n",
      "\t---------------------------------------------------------------------\n",
      "\t|      default     |   11  |   0   |   0   |   0   ||   11  |   0   |\n",
      "\t---------------------------------------------------------------------\n",
      ":: retrieving :: org.apache.spark#spark-submit-parent-34924bb5-c88f-4b13-aeca-c4ad63f10310\n",
      "\tconfs: [default]\n",
      "\t0 artifacts copied, 11 already retrieved (0kB/5ms)\n",
      "24/03/20 20:25:53 WARN NativeCodeLoader: Unable to load native-hadoop library for your platform... using builtin-java classes where applicable\n",
      "Setting default log level to \"WARN\".\n",
      "To adjust logging level use sc.setLogLevel(newLevel). For SparkR, use setLogLevel(newLevel).\n"
     ]
    }
   ],
   "source": [
    "import pyspark\n",
    "from pyspark.sql import SparkSession\n",
    "\n",
    "pyspark_version = pyspark.__version__\n",
    "kafka_jar_package = f\"org.apache.spark:spark-sql-kafka-0-10_2.12:{pyspark_version}\"\n",
    "\n",
    "spark = SparkSession \\\n",
    "    .builder \\\n",
    "    .master(\"local[*]\") \\\n",
    "    .appName(\"GreenTripsConsumer\") \\\n",
    "    .config(\"spark.jars.packages\", kafka_jar_package) \\\n",
    "    .getOrCreate()"
   ]
  },
  {
   "cell_type": "code",
   "execution_count": 20,
   "id": "852d93a0-9f36-43d1-a43d-2a764551d8d5",
   "metadata": {},
   "outputs": [],
   "source": [
    "green_stream = spark \\\n",
    "    .readStream \\\n",
    "    .format(\"kafka\") \\\n",
    "    .option(\"kafka.bootstrap.servers\", \"localhost:9092\") \\\n",
    "    .option(\"subscribe\", \"green-trips\") \\\n",
    "    .option(\"startingOffsets\", \"earliest\") \\\n",
    "    .load()"
   ]
  },
  {
   "cell_type": "code",
   "execution_count": 21,
   "id": "a166cfc1-e2a4-48ef-bad6-14197105f08d",
   "metadata": {},
   "outputs": [
    {
     "name": "stderr",
     "output_type": "stream",
     "text": [
      "24/03/20 20:26:43 WARN ResolveWriteToStream: Temporary checkpoint location created which is deleted normally when the query didn't fail: /private/var/folders/qj/3nrl2lg92pv09vj6961hy6zr0000gn/T/temporary-68d87dcf-89c5-4a43-a845-dfe909b7599a. If it's required to delete it under any circumstances, please set spark.sql.streaming.forceDeleteTempCheckpointLocation to true. Important to know deleting temp checkpoint folder is best effort.\n",
      "24/03/20 20:26:43 WARN ResolveWriteToStream: spark.sql.adaptive.enabled is not supported in streaming DataFrames/Datasets and will be disabled.\n",
      "24/03/20 20:26:43 WARN AdminClientConfig: These configurations '[key.deserializer, value.deserializer, enable.auto.commit, max.poll.records, auto.offset.reset]' were supplied but are not used yet.\n"
     ]
    },
    {
     "name": "stdout",
     "output_type": "stream",
     "text": [
      "Row(key=None, value=bytearray(b'{\"lpep_pickup_datetime\": \"2019-10-01 00:26:02\", \"lpep_dropoff_datetime\": \"2019-10-01 00:39:58\", \"PULocationID\": 112, \"DOLocationID\": 196, \"passenger_count\": 1.0, \"trip_distance\": 5.88, \"tip_amount\": 0.0}'), topic='green-trips', partition=0, offset=0, timestamp=datetime.datetime(2024, 3, 20, 20, 24, 44, 685000), timestampType=0)\n"
     ]
    }
   ],
   "source": [
    "def peek(mini_batch, batch_id):\n",
    "    first_row = mini_batch.take(1)\n",
    "\n",
    "    if first_row:\n",
    "        print(first_row[0])\n",
    "\n",
    "query = green_stream.writeStream.foreachBatch(peek).start()"
   ]
  },
  {
   "cell_type": "code",
   "execution_count": 22,
   "id": "69b10629-7ccd-4396-bca1-fa647c739684",
   "metadata": {},
   "outputs": [],
   "source": [
    "query.stop()"
   ]
  },
  {
   "cell_type": "markdown",
   "id": "6b03be51-07d0-4ae4-b2db-f19cd834a863",
   "metadata": {},
   "source": [
    "# Question 6. Parsing the data\n",
    "Answer:\n",
    "```sh\n",
    "Row(lpep_pickup_datetime='2019-10-01 00:26:02', lpep_dropoff_datetime='2019-10-01 00:39:58', PULocationID=112, DOLocationID=196, passenger_count=1.0, trip_distance=5.88, tip_amount=0.0)\n",
    "```"
   ]
  },
  {
   "cell_type": "code",
   "execution_count": 23,
   "id": "28e61af3-a5b4-45dd-8543-b3e78e3dad6c",
   "metadata": {},
   "outputs": [],
   "source": [
    "from pyspark.sql import types\n",
    "\n",
    "schema = types.StructType() \\\n",
    "    .add(\"lpep_pickup_datetime\", types.StringType()) \\\n",
    "    .add(\"lpep_dropoff_datetime\", types.StringType()) \\\n",
    "    .add(\"PULocationID\", types.IntegerType()) \\\n",
    "    .add(\"DOLocationID\", types.IntegerType()) \\\n",
    "    .add(\"passenger_count\", types.DoubleType()) \\\n",
    "    .add(\"trip_distance\", types.DoubleType()) \\\n",
    "    .add(\"tip_amount\", types.DoubleType())"
   ]
  },
  {
   "cell_type": "code",
   "execution_count": 24,
   "id": "a12d1ee1-60a5-46ec-9828-e618756f04ed",
   "metadata": {},
   "outputs": [],
   "source": [
    "from pyspark.sql import functions as F\n",
    "\n",
    "green_stream = green_stream \\\n",
    "  .select(F.from_json(F.col(\"value\").cast('STRING'), schema).alias(\"data\")) \\\n",
    "  .select(\"data.*\")"
   ]
  },
  {
   "cell_type": "code",
   "execution_count": 25,
   "id": "fa96de9e-432b-4577-9a97-8a6016ca8fd1",
   "metadata": {},
   "outputs": [
    {
     "name": "stdout",
     "output_type": "stream",
     "text": [
      "root\n",
      " |-- lpep_pickup_datetime: string (nullable = true)\n",
      " |-- lpep_dropoff_datetime: string (nullable = true)\n",
      " |-- PULocationID: integer (nullable = true)\n",
      " |-- DOLocationID: integer (nullable = true)\n",
      " |-- passenger_count: double (nullable = true)\n",
      " |-- trip_distance: double (nullable = true)\n",
      " |-- tip_amount: double (nullable = true)\n",
      "\n"
     ]
    }
   ],
   "source": [
    "green_stream.printSchema()"
   ]
  },
  {
   "cell_type": "code",
   "execution_count": 26,
   "id": "9cc92761-cfe6-4290-b256-aa210472151f",
   "metadata": {},
   "outputs": [
    {
     "name": "stderr",
     "output_type": "stream",
     "text": [
      "24/03/20 20:26:55 WARN ResolveWriteToStream: Temporary checkpoint location created which is deleted normally when the query didn't fail: /private/var/folders/qj/3nrl2lg92pv09vj6961hy6zr0000gn/T/temporary-56c876d7-a8b1-4f5b-b1c8-eb1709f9d1c2. If it's required to delete it under any circumstances, please set spark.sql.streaming.forceDeleteTempCheckpointLocation to true. Important to know deleting temp checkpoint folder is best effort.\n",
      "24/03/20 20:26:55 WARN ResolveWriteToStream: spark.sql.adaptive.enabled is not supported in streaming DataFrames/Datasets and will be disabled.\n",
      "24/03/20 20:26:55 WARN AdminClientConfig: These configurations '[key.deserializer, value.deserializer, enable.auto.commit, max.poll.records, auto.offset.reset]' were supplied but are not used yet.\n"
     ]
    },
    {
     "name": "stdout",
     "output_type": "stream",
     "text": [
      "Row(lpep_pickup_datetime='2019-10-01 00:26:02', lpep_dropoff_datetime='2019-10-01 00:39:58', PULocationID=112, DOLocationID=196, passenger_count=1.0, trip_distance=5.88, tip_amount=0.0)\n"
     ]
    }
   ],
   "source": [
    "query = green_stream.writeStream.foreachBatch(peek).start()"
   ]
  },
  {
   "cell_type": "markdown",
   "id": "a25b902d-fbbe-4862-9692-86646c01fa8c",
   "metadata": {},
   "source": [
    "# Question 7: Most popular destination\n",
    "Answer: 74"
   ]
  },
  {
   "cell_type": "code",
   "execution_count": 27,
   "id": "1956cda6-aa21-4606-be87-bfcbe2a06a1b",
   "metadata": {},
   "outputs": [
    {
     "name": "stdout",
     "output_type": "stream",
     "text": [
      "root\n",
      " |-- lpep_pickup_datetime: string (nullable = true)\n",
      " |-- lpep_dropoff_datetime: string (nullable = true)\n",
      " |-- PULocationID: integer (nullable = true)\n",
      " |-- DOLocationID: integer (nullable = true)\n",
      " |-- passenger_count: double (nullable = true)\n",
      " |-- trip_distance: double (nullable = true)\n",
      " |-- tip_amount: double (nullable = true)\n",
      "\n"
     ]
    }
   ],
   "source": [
    "green_stream.printSchema()"
   ]
  },
  {
   "cell_type": "code",
   "execution_count": 28,
   "id": "9a3ff459",
   "metadata": {},
   "outputs": [],
   "source": [
    "green_stream = green_stream \\\n",
    "  .withColumn(\"timestamp\", F.current_timestamp())"
   ]
  },
  {
   "cell_type": "code",
   "execution_count": 29,
   "id": "0950eef7",
   "metadata": {},
   "outputs": [
    {
     "name": "stdout",
     "output_type": "stream",
     "text": [
      "root\n",
      " |-- lpep_pickup_datetime: string (nullable = true)\n",
      " |-- lpep_dropoff_datetime: string (nullable = true)\n",
      " |-- PULocationID: integer (nullable = true)\n",
      " |-- DOLocationID: integer (nullable = true)\n",
      " |-- passenger_count: double (nullable = true)\n",
      " |-- trip_distance: double (nullable = true)\n",
      " |-- tip_amount: double (nullable = true)\n",
      " |-- timestamp: timestamp (nullable = false)\n",
      "\n"
     ]
    }
   ],
   "source": [
    "green_stream.printSchema()"
   ]
  },
  {
   "cell_type": "code",
   "execution_count": 30,
   "id": "f855c049",
   "metadata": {},
   "outputs": [],
   "source": [
    "popular_destinations = green_stream \\\n",
    "    .groupBy(\n",
    "        F.window(F.col(\"timestamp\"), \"5 minutes\"),\n",
    "        F.col(\"DOLocationID\")\n",
    "    ) \\\n",
    "    .count() \\\n",
    "    .orderBy(F.col(\"count\").desc())"
   ]
  },
  {
   "cell_type": "code",
   "execution_count": 31,
   "id": "cc1c0686",
   "metadata": {},
   "outputs": [
    {
     "name": "stderr",
     "output_type": "stream",
     "text": [
      "24/03/20 20:27:45 WARN ResolveWriteToStream: Temporary checkpoint location created which is deleted normally when the query didn't fail: /private/var/folders/qj/3nrl2lg92pv09vj6961hy6zr0000gn/T/temporary-5ac05f1f-e779-4726-a488-f98513420c9b. If it's required to delete it under any circumstances, please set spark.sql.streaming.forceDeleteTempCheckpointLocation to true. Important to know deleting temp checkpoint folder is best effort.\n",
      "24/03/20 20:27:45 WARN ResolveWriteToStream: spark.sql.adaptive.enabled is not supported in streaming DataFrames/Datasets and will be disabled.\n",
      "24/03/20 20:27:45 WARN AdminClientConfig: These configurations '[key.deserializer, value.deserializer, enable.auto.commit, max.poll.records, auto.offset.reset]' were supplied but are not used yet.\n",
      "                                                                                \r"
     ]
    },
    {
     "name": "stdout",
     "output_type": "stream",
     "text": [
      "-------------------------------------------\n",
      "Batch: 0\n",
      "-------------------------------------------\n",
      "+------------------------------------------+------------+-----+\n",
      "|window                                    |DOLocationID|count|\n",
      "+------------------------------------------+------------+-----+\n",
      "|{2024-03-20 20:25:00, 2024-03-20 20:30:00}|74          |17741|\n",
      "|{2024-03-20 20:25:00, 2024-03-20 20:30:00}|42          |15942|\n",
      "|{2024-03-20 20:25:00, 2024-03-20 20:30:00}|41          |14061|\n",
      "|{2024-03-20 20:25:00, 2024-03-20 20:30:00}|75          |12840|\n",
      "|{2024-03-20 20:25:00, 2024-03-20 20:30:00}|129         |11930|\n",
      "|{2024-03-20 20:25:00, 2024-03-20 20:30:00}|7           |11533|\n",
      "|{2024-03-20 20:25:00, 2024-03-20 20:30:00}|166         |10845|\n",
      "|{2024-03-20 20:25:00, 2024-03-20 20:30:00}|236         |7913 |\n",
      "|{2024-03-20 20:25:00, 2024-03-20 20:30:00}|223         |7542 |\n",
      "|{2024-03-20 20:25:00, 2024-03-20 20:30:00}|238         |7318 |\n",
      "|{2024-03-20 20:25:00, 2024-03-20 20:30:00}|82          |7292 |\n",
      "|{2024-03-20 20:25:00, 2024-03-20 20:30:00}|181         |7282 |\n",
      "|{2024-03-20 20:25:00, 2024-03-20 20:30:00}|95          |7244 |\n",
      "|{2024-03-20 20:25:00, 2024-03-20 20:30:00}|244         |6733 |\n",
      "|{2024-03-20 20:25:00, 2024-03-20 20:30:00}|61          |6606 |\n",
      "|{2024-03-20 20:25:00, 2024-03-20 20:30:00}|116         |6339 |\n",
      "|{2024-03-20 20:25:00, 2024-03-20 20:30:00}|138         |6144 |\n",
      "|{2024-03-20 20:25:00, 2024-03-20 20:30:00}|97          |6050 |\n",
      "|{2024-03-20 20:25:00, 2024-03-20 20:30:00}|49          |5221 |\n",
      "|{2024-03-20 20:25:00, 2024-03-20 20:30:00}|151         |5153 |\n",
      "+------------------------------------------+------------+-----+\n",
      "only showing top 20 rows\n",
      "\n"
     ]
    }
   ],
   "source": [
    "query = popular_destinations \\\n",
    "    .writeStream \\\n",
    "    .outputMode(\"complete\") \\\n",
    "    .format(\"console\") \\\n",
    "    .option(\"truncate\", \"false\") \\\n",
    "    .start()\n",
    "\n",
    "# query.awaitTermination()"
   ]
  },
  {
   "cell_type": "code",
   "execution_count": 32,
   "id": "3bceaca6",
   "metadata": {},
   "outputs": [],
   "source": [
    "query.stop()"
   ]
  }
 ],
 "metadata": {
  "kernelspec": {
   "display_name": "Python 3 (ipykernel)",
   "language": "python",
   "name": "python3"
  },
  "language_info": {
   "codemirror_mode": {
    "name": "ipython",
    "version": 3
   },
   "file_extension": ".py",
   "mimetype": "text/x-python",
   "name": "python",
   "nbconvert_exporter": "python",
   "pygments_lexer": "ipython3",
   "version": "3.9.13"
  }
 },
 "nbformat": 4,
 "nbformat_minor": 5
}
